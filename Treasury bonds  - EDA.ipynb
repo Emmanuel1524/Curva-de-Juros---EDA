{
 "cells": [
  {
   "cell_type": "markdown",
   "metadata": {},
   "source": [
    "Este trabalho tem como objetivo realizar uma análise exploratória de dados (EDA), observando a valoração histórica de títulos públicos pré-fixados em 2022 \n",
    "\n",
    "Espera-se poder capturar a formação de expectativas dos agentes econômicos ao longo do tempo e a atratividade dos investimentos em títulos públicos ao longo do tempo\n",
    "\n",
    "Para isso, será utilizado os dados disponibilizados no site do tesouro nacional e aplicar-se-a técnicas de análise de Series Temporais e Estatistica Descritiva"
   ]
  },
  {
   "cell_type": "markdown",
   "metadata": {},
   "source": [
    "---------------------------------------------------"
   ]
  },
  {
   "cell_type": "markdown",
   "metadata": {},
   "source": [
    "Passo 1 - Importar as Bibliotecas Relevantes "
   ]
  },
  {
   "cell_type": "code",
   "execution_count": 225,
   "metadata": {},
   "outputs": [],
   "source": [
    "import pandas as pd \n",
    "import matplotlib.pyplot as plt \n",
    "from pandas_datareader import data as wb \n",
    "import numpy as np \n",
    "import seaborn as sns\n",
    "sns.set()"
   ]
  },
  {
   "cell_type": "markdown",
   "metadata": {},
   "source": [
    "---------------------------------\n",
    "Passo 2 - importar os dados"
   ]
  },
  {
   "cell_type": "code",
   "execution_count": 108,
   "metadata": {},
   "outputs": [],
   "source": [
    "bond_1Y = pd.read_excel(\"C:/Users/emman/Desktop/Power Bi/Personal Projects/Bounds/LTN_2022.xls\",\n",
    "                         sheet_name = \"LTN 010123\", date_parser= [\"Dia\"], index_col= \"Dia\")[\"Taxa Compra Manhã\"]\n",
    "bond_2Y = pd.read_excel(\"C:/Users/emman/Desktop/Power Bi/Personal Projects/Bounds/LTN_2022.xls\",\n",
    "                         sheet_name = \"LTN 010724\", date_parser= [\"Dia\"], index_col= \"Dia\")[\"Taxa Compra Manhã\"]\n",
    "bond_3Y = pd.read_excel(\"C:/Users/emman/Desktop/Power Bi/Personal Projects/Bounds/LTN_2022.xls\",\n",
    "                         sheet_name = \"LTN 010125\", date_parser= [\"Dia\"], index_col= \"Dia\")[\"Taxa Compra Manhã\"]\n",
    "bond_4Y = pd.read_excel(\"C:/Users/emman/Desktop/Power Bi/Personal Projects/Bounds/LTN_2022.xls\",\n",
    "                         sheet_name = \"LTN 010126\", date_parser= [\"Dia\"], index_col= \"Dia\")[\"Taxa Compra Manhã\"]\n",
    "bond_7Y = pd.read_excel(\"C:/Users/emman/Desktop/Power Bi/Personal Projects/Bounds/LTN_2022.xls\",\n",
    "                         sheet_name = \"LTN 010129\", date_parser= [\"Dia\"], index_col= \"Dia\")[\"Taxa Compra Manhã\"]"
   ]
  },
  {
   "cell_type": "code",
   "execution_count": 109,
   "metadata": {
    "scrolled": true
   },
   "outputs": [
    {
     "data": {
      "text/html": [
       "<div>\n",
       "<style scoped>\n",
       "    .dataframe tbody tr th:only-of-type {\n",
       "        vertical-align: middle;\n",
       "    }\n",
       "\n",
       "    .dataframe tbody tr th {\n",
       "        vertical-align: top;\n",
       "    }\n",
       "\n",
       "    .dataframe thead th {\n",
       "        text-align: right;\n",
       "    }\n",
       "</style>\n",
       "<table border=\"1\" class=\"dataframe\">\n",
       "  <thead>\n",
       "    <tr style=\"text-align: right;\">\n",
       "      <th></th>\n",
       "      <th>Título Venc 1Y</th>\n",
       "      <th>Título Venc 2Y</th>\n",
       "      <th>Título Venc 3Y</th>\n",
       "      <th>Título Venc 4Y</th>\n",
       "      <th>Título Venc 7Y</th>\n",
       "    </tr>\n",
       "  </thead>\n",
       "  <tbody>\n",
       "    <tr>\n",
       "      <th>03/01/2022</th>\n",
       "      <td>11.83</td>\n",
       "      <td>10.90</td>\n",
       "      <td>10.74</td>\n",
       "      <td>10.63</td>\n",
       "      <td>NaN</td>\n",
       "    </tr>\n",
       "    <tr>\n",
       "      <th>04/01/2022</th>\n",
       "      <td>11.78</td>\n",
       "      <td>11.04</td>\n",
       "      <td>10.93</td>\n",
       "      <td>10.87</td>\n",
       "      <td>NaN</td>\n",
       "    </tr>\n",
       "    <tr>\n",
       "      <th>05/01/2022</th>\n",
       "      <td>12.02</td>\n",
       "      <td>11.42</td>\n",
       "      <td>11.29</td>\n",
       "      <td>11.18</td>\n",
       "      <td>NaN</td>\n",
       "    </tr>\n",
       "    <tr>\n",
       "      <th>06/01/2022</th>\n",
       "      <td>12.07</td>\n",
       "      <td>11.65</td>\n",
       "      <td>11.52</td>\n",
       "      <td>11.40</td>\n",
       "      <td>NaN</td>\n",
       "    </tr>\n",
       "    <tr>\n",
       "      <th>07/01/2022</th>\n",
       "      <td>11.93</td>\n",
       "      <td>11.55</td>\n",
       "      <td>11.43</td>\n",
       "      <td>11.31</td>\n",
       "      <td>NaN</td>\n",
       "    </tr>\n",
       "    <tr>\n",
       "      <th>...</th>\n",
       "      <td>...</td>\n",
       "      <td>...</td>\n",
       "      <td>...</td>\n",
       "      <td>...</td>\n",
       "      <td>...</td>\n",
       "    </tr>\n",
       "    <tr>\n",
       "      <th>06/09/2022</th>\n",
       "      <td>13.72</td>\n",
       "      <td>12.36</td>\n",
       "      <td>11.86</td>\n",
       "      <td>11.72</td>\n",
       "      <td>11.80</td>\n",
       "    </tr>\n",
       "    <tr>\n",
       "      <th>08/09/2022</th>\n",
       "      <td>13.71</td>\n",
       "      <td>12.36</td>\n",
       "      <td>11.84</td>\n",
       "      <td>11.67</td>\n",
       "      <td>11.70</td>\n",
       "    </tr>\n",
       "    <tr>\n",
       "      <th>09/09/2022</th>\n",
       "      <td>13.73</td>\n",
       "      <td>12.39</td>\n",
       "      <td>11.81</td>\n",
       "      <td>11.59</td>\n",
       "      <td>11.62</td>\n",
       "    </tr>\n",
       "    <tr>\n",
       "      <th>12/09/2022</th>\n",
       "      <td>13.70</td>\n",
       "      <td>12.25</td>\n",
       "      <td>11.69</td>\n",
       "      <td>11.49</td>\n",
       "      <td>11.50</td>\n",
       "    </tr>\n",
       "    <tr>\n",
       "      <th>13/09/2022</th>\n",
       "      <td>13.71</td>\n",
       "      <td>12.37</td>\n",
       "      <td>11.81</td>\n",
       "      <td>11.61</td>\n",
       "      <td>11.62</td>\n",
       "    </tr>\n",
       "  </tbody>\n",
       "</table>\n",
       "<p>176 rows × 5 columns</p>\n",
       "</div>"
      ],
      "text/plain": [
       "            Título Venc 1Y  Título Venc 2Y  Título Venc 3Y  Título Venc 4Y  \\\n",
       "03/01/2022           11.83           10.90           10.74           10.63   \n",
       "04/01/2022           11.78           11.04           10.93           10.87   \n",
       "05/01/2022           12.02           11.42           11.29           11.18   \n",
       "06/01/2022           12.07           11.65           11.52           11.40   \n",
       "07/01/2022           11.93           11.55           11.43           11.31   \n",
       "...                    ...             ...             ...             ...   \n",
       "06/09/2022           13.72           12.36           11.86           11.72   \n",
       "08/09/2022           13.71           12.36           11.84           11.67   \n",
       "09/09/2022           13.73           12.39           11.81           11.59   \n",
       "12/09/2022           13.70           12.25           11.69           11.49   \n",
       "13/09/2022           13.71           12.37           11.81           11.61   \n",
       "\n",
       "            Título Venc 7Y  \n",
       "03/01/2022             NaN  \n",
       "04/01/2022             NaN  \n",
       "05/01/2022             NaN  \n",
       "06/01/2022             NaN  \n",
       "07/01/2022             NaN  \n",
       "...                    ...  \n",
       "06/09/2022           11.80  \n",
       "08/09/2022           11.70  \n",
       "09/09/2022           11.62  \n",
       "12/09/2022           11.50  \n",
       "13/09/2022           11.62  \n",
       "\n",
       "[176 rows x 5 columns]"
      ]
     },
     "execution_count": 109,
     "metadata": {},
     "output_type": "execute_result"
    }
   ],
   "source": [
    "bond_agregate = pd.concat([bond_1Y,bond_2Y,bond_3Y,bond_4Y, bond_7Y], axis= 1).mul(100)\n",
    "colunas = [\"Título Venc 1Y\", \"Título Venc 2Y\", \"Título Venc 3Y\", \"Título Venc 4Y\",\"Título Venc 7Y\"]\n",
    "bond_agregate.columns = colunas\n",
    "bond_agregate"
   ]
  },
  {
   "cell_type": "markdown",
   "metadata": {},
   "source": [
    "Nesta etapa, foram agrupados todos os títulos pela serie histórica de taxas de compra futura em um DataFrame consolidado"
   ]
  },
  {
   "cell_type": "markdown",
   "metadata": {},
   "source": [
    "-----------------------------------------\n",
    "Passo 3 - Checar e corrigir missing data "
   ]
  },
  {
   "cell_type": "code",
   "execution_count": 110,
   "metadata": {},
   "outputs": [
    {
     "data": {
      "text/plain": [
       "Título Venc 1Y     0\n",
       "Título Venc 2Y     0\n",
       "Título Venc 3Y     0\n",
       "Título Venc 4Y     0\n",
       "Título Venc 7Y    35\n",
       "dtype: int64"
      ]
     },
     "execution_count": 110,
     "metadata": {},
     "output_type": "execute_result"
    }
   ],
   "source": [
    "bond_agregate.isna().sum()"
   ]
  },
  {
   "cell_type": "markdown",
   "metadata": {},
   "source": [
    "Vamos preencher os valores de missing com a média dos dados históricas do período para os títulos de vencimento em 7 anos"
   ]
  },
  {
   "cell_type": "code",
   "execution_count": 117,
   "metadata": {},
   "outputs": [
    {
     "data": {
      "text/html": [
       "<div>\n",
       "<style scoped>\n",
       "    .dataframe tbody tr th:only-of-type {\n",
       "        vertical-align: middle;\n",
       "    }\n",
       "\n",
       "    .dataframe tbody tr th {\n",
       "        vertical-align: top;\n",
       "    }\n",
       "\n",
       "    .dataframe thead th {\n",
       "        text-align: right;\n",
       "    }\n",
       "</style>\n",
       "<table border=\"1\" class=\"dataframe\">\n",
       "  <thead>\n",
       "    <tr style=\"text-align: right;\">\n",
       "      <th></th>\n",
       "      <th>Título Venc 1Y</th>\n",
       "      <th>Título Venc 2Y</th>\n",
       "      <th>Título Venc 3Y</th>\n",
       "      <th>Título Venc 4Y</th>\n",
       "      <th>Título Venc 7Y</th>\n",
       "    </tr>\n",
       "  </thead>\n",
       "  <tbody>\n",
       "    <tr>\n",
       "      <th>03/01/2022</th>\n",
       "      <td>11.83</td>\n",
       "      <td>10.90</td>\n",
       "      <td>10.74</td>\n",
       "      <td>10.63</td>\n",
       "      <td>11.531429</td>\n",
       "    </tr>\n",
       "    <tr>\n",
       "      <th>04/01/2022</th>\n",
       "      <td>11.78</td>\n",
       "      <td>11.04</td>\n",
       "      <td>10.93</td>\n",
       "      <td>10.87</td>\n",
       "      <td>11.531429</td>\n",
       "    </tr>\n",
       "    <tr>\n",
       "      <th>05/01/2022</th>\n",
       "      <td>12.02</td>\n",
       "      <td>11.42</td>\n",
       "      <td>11.29</td>\n",
       "      <td>11.18</td>\n",
       "      <td>11.531429</td>\n",
       "    </tr>\n",
       "    <tr>\n",
       "      <th>06/01/2022</th>\n",
       "      <td>12.07</td>\n",
       "      <td>11.65</td>\n",
       "      <td>11.52</td>\n",
       "      <td>11.40</td>\n",
       "      <td>11.531429</td>\n",
       "    </tr>\n",
       "    <tr>\n",
       "      <th>07/01/2022</th>\n",
       "      <td>11.93</td>\n",
       "      <td>11.55</td>\n",
       "      <td>11.43</td>\n",
       "      <td>11.31</td>\n",
       "      <td>11.531429</td>\n",
       "    </tr>\n",
       "    <tr>\n",
       "      <th>...</th>\n",
       "      <td>...</td>\n",
       "      <td>...</td>\n",
       "      <td>...</td>\n",
       "      <td>...</td>\n",
       "      <td>...</td>\n",
       "    </tr>\n",
       "    <tr>\n",
       "      <th>06/09/2022</th>\n",
       "      <td>13.72</td>\n",
       "      <td>12.36</td>\n",
       "      <td>11.86</td>\n",
       "      <td>11.72</td>\n",
       "      <td>11.800000</td>\n",
       "    </tr>\n",
       "    <tr>\n",
       "      <th>08/09/2022</th>\n",
       "      <td>13.71</td>\n",
       "      <td>12.36</td>\n",
       "      <td>11.84</td>\n",
       "      <td>11.67</td>\n",
       "      <td>11.700000</td>\n",
       "    </tr>\n",
       "    <tr>\n",
       "      <th>09/09/2022</th>\n",
       "      <td>13.73</td>\n",
       "      <td>12.39</td>\n",
       "      <td>11.81</td>\n",
       "      <td>11.59</td>\n",
       "      <td>11.620000</td>\n",
       "    </tr>\n",
       "    <tr>\n",
       "      <th>12/09/2022</th>\n",
       "      <td>13.70</td>\n",
       "      <td>12.25</td>\n",
       "      <td>11.69</td>\n",
       "      <td>11.49</td>\n",
       "      <td>11.500000</td>\n",
       "    </tr>\n",
       "    <tr>\n",
       "      <th>13/09/2022</th>\n",
       "      <td>13.71</td>\n",
       "      <td>12.37</td>\n",
       "      <td>11.81</td>\n",
       "      <td>11.61</td>\n",
       "      <td>11.620000</td>\n",
       "    </tr>\n",
       "  </tbody>\n",
       "</table>\n",
       "<p>176 rows × 5 columns</p>\n",
       "</div>"
      ],
      "text/plain": [
       "            Título Venc 1Y  Título Venc 2Y  Título Venc 3Y  Título Venc 4Y  \\\n",
       "03/01/2022           11.83           10.90           10.74           10.63   \n",
       "04/01/2022           11.78           11.04           10.93           10.87   \n",
       "05/01/2022           12.02           11.42           11.29           11.18   \n",
       "06/01/2022           12.07           11.65           11.52           11.40   \n",
       "07/01/2022           11.93           11.55           11.43           11.31   \n",
       "...                    ...             ...             ...             ...   \n",
       "06/09/2022           13.72           12.36           11.86           11.72   \n",
       "08/09/2022           13.71           12.36           11.84           11.67   \n",
       "09/09/2022           13.73           12.39           11.81           11.59   \n",
       "12/09/2022           13.70           12.25           11.69           11.49   \n",
       "13/09/2022           13.71           12.37           11.81           11.61   \n",
       "\n",
       "            Título Venc 7Y  \n",
       "03/01/2022       11.531429  \n",
       "04/01/2022       11.531429  \n",
       "05/01/2022       11.531429  \n",
       "06/01/2022       11.531429  \n",
       "07/01/2022       11.531429  \n",
       "...                    ...  \n",
       "06/09/2022       11.800000  \n",
       "08/09/2022       11.700000  \n",
       "09/09/2022       11.620000  \n",
       "12/09/2022       11.500000  \n",
       "13/09/2022       11.620000  \n",
       "\n",
       "[176 rows x 5 columns]"
      ]
     },
     "execution_count": 117,
     "metadata": {},
     "output_type": "execute_result"
    }
   ],
   "source": [
    "bond_agregate[\"Título Venc 7Y\"] = bond_agregate[\"Título Venc 7Y\"].fillna(bond_agregate[\"Título Venc 7Y\"].loc[\"03/01/2022\" : \"03/03/2022\"].mean())\n",
    "bond_agregate"
   ]
  },
  {
   "cell_type": "code",
   "execution_count": 118,
   "metadata": {
    "scrolled": true
   },
   "outputs": [
    {
     "data": {
      "text/plain": [
       "Título Venc 1Y    0\n",
       "Título Venc 2Y    0\n",
       "Título Venc 3Y    0\n",
       "Título Venc 4Y    0\n",
       "Título Venc 7Y    0\n",
       "dtype: int64"
      ]
     },
     "execution_count": 118,
     "metadata": {},
     "output_type": "execute_result"
    }
   ],
   "source": [
    "bond_agregate.isna().sum()"
   ]
  },
  {
   "cell_type": "markdown",
   "metadata": {},
   "source": [
    "-------------------------------\n",
    "Passo 4 - Analises"
   ]
  },
  {
   "cell_type": "markdown",
   "metadata": {},
   "source": [
    "Para o início dos trabalhos, vamos validar as distribuições dos retornos comparativamente através de um box plot:"
   ]
  },
  {
   "cell_type": "code",
   "execution_count": 119,
   "metadata": {},
   "outputs": [
    {
     "data": {
      "text/plain": [
       "<AxesSubplot:>"
      ]
     },
     "execution_count": 119,
     "metadata": {},
     "output_type": "execute_result"
    },
    {
     "data": {
      "image/png": "[encoded data removed]",
      "text/plain": [
       "<Figure size 720x576 with 1 Axes>"
      ]
     },
     "metadata": {},
     "output_type": "display_data"
    }
   ],
   "source": [
    "bond_agregate.plot(kind = \"box\", figsize = (10,8))"
   ]
  },
  {
   "cell_type": "markdown",
   "metadata": {},
   "source": [
    "Já no prórpio boxplot é possivel ter uma noção da formação das expectativas dos agentes econômicos em torno das taxas de juros de curto,médio e longo prazo que vão ser atreladas aos títulos do tesouro.\n",
    "\n",
    "Observe que a média das distribuição vai decaindo ao longo do tempo, ao passo que a variabilidade dos dados se mantem estável"
   ]
  },
  {
   "cell_type": "code",
   "execution_count": 120,
   "metadata": {},
   "outputs": [
    {
     "data": {
      "text/html": [
       "<div>\n",
       "<style scoped>\n",
       "    .dataframe tbody tr th:only-of-type {\n",
       "        vertical-align: middle;\n",
       "    }\n",
       "\n",
       "    .dataframe tbody tr th {\n",
       "        vertical-align: top;\n",
       "    }\n",
       "\n",
       "    .dataframe thead th {\n",
       "        text-align: right;\n",
       "    }\n",
       "</style>\n",
       "<table border=\"1\" class=\"dataframe\">\n",
       "  <thead>\n",
       "    <tr style=\"text-align: right;\">\n",
       "      <th></th>\n",
       "      <th>Título Venc 1Y</th>\n",
       "      <th>Título Venc 2Y</th>\n",
       "      <th>Título Venc 3Y</th>\n",
       "      <th>Título Venc 4Y</th>\n",
       "      <th>Título Venc 7Y</th>\n",
       "    </tr>\n",
       "  </thead>\n",
       "  <tbody>\n",
       "    <tr>\n",
       "      <th>count</th>\n",
       "      <td>176.00000</td>\n",
       "      <td>176.000000</td>\n",
       "      <td>176.000000</td>\n",
       "      <td>176.000000</td>\n",
       "      <td>176.000000</td>\n",
       "    </tr>\n",
       "    <tr>\n",
       "      <th>mean</th>\n",
       "      <td>13.09858</td>\n",
       "      <td>12.398977</td>\n",
       "      <td>12.106307</td>\n",
       "      <td>12.003295</td>\n",
       "      <td>12.163239</td>\n",
       "    </tr>\n",
       "    <tr>\n",
       "      <th>std</th>\n",
       "      <td>0.63375</td>\n",
       "      <td>0.653232</td>\n",
       "      <td>0.624605</td>\n",
       "      <td>0.631440</td>\n",
       "      <td>0.587333</td>\n",
       "    </tr>\n",
       "    <tr>\n",
       "      <th>min</th>\n",
       "      <td>11.78000</td>\n",
       "      <td>10.900000</td>\n",
       "      <td>10.740000</td>\n",
       "      <td>10.630000</td>\n",
       "      <td>11.130000</td>\n",
       "    </tr>\n",
       "    <tr>\n",
       "      <th>25%</th>\n",
       "      <td>12.69500</td>\n",
       "      <td>11.737500</td>\n",
       "      <td>11.487500</td>\n",
       "      <td>11.392500</td>\n",
       "      <td>11.531429</td>\n",
       "    </tr>\n",
       "    <tr>\n",
       "      <th>50%</th>\n",
       "      <td>13.27000</td>\n",
       "      <td>12.475000</td>\n",
       "      <td>12.130000</td>\n",
       "      <td>12.000000</td>\n",
       "      <td>12.115000</td>\n",
       "    </tr>\n",
       "    <tr>\n",
       "      <th>75%</th>\n",
       "      <td>13.70000</td>\n",
       "      <td>12.820000</td>\n",
       "      <td>12.540000</td>\n",
       "      <td>12.420000</td>\n",
       "      <td>12.562500</td>\n",
       "    </tr>\n",
       "    <tr>\n",
       "      <th>max</th>\n",
       "      <td>13.89000</td>\n",
       "      <td>13.790000</td>\n",
       "      <td>13.510000</td>\n",
       "      <td>13.470000</td>\n",
       "      <td>13.590000</td>\n",
       "    </tr>\n",
       "  </tbody>\n",
       "</table>\n",
       "</div>"
      ],
      "text/plain": [
       "       Título Venc 1Y  Título Venc 2Y  Título Venc 3Y  Título Venc 4Y  \\\n",
       "count       176.00000      176.000000      176.000000      176.000000   \n",
       "mean         13.09858       12.398977       12.106307       12.003295   \n",
       "std           0.63375        0.653232        0.624605        0.631440   \n",
       "min          11.78000       10.900000       10.740000       10.630000   \n",
       "25%          12.69500       11.737500       11.487500       11.392500   \n",
       "50%          13.27000       12.475000       12.130000       12.000000   \n",
       "75%          13.70000       12.820000       12.540000       12.420000   \n",
       "max          13.89000       13.790000       13.510000       13.470000   \n",
       "\n",
       "       Título Venc 7Y  \n",
       "count      176.000000  \n",
       "mean        12.163239  \n",
       "std          0.587333  \n",
       "min         11.130000  \n",
       "25%         11.531429  \n",
       "50%         12.115000  \n",
       "75%         12.562500  \n",
       "max         13.590000  "
      ]
     },
     "execution_count": 120,
     "metadata": {},
     "output_type": "execute_result"
    }
   ],
   "source": [
    "bond_agregate.describe()"
   ]
  },
  {
   "cell_type": "markdown",
   "metadata": {},
   "source": [
    "Em um olhar mais detalhado para as estatísticas descritivas, pode-se observar que a o desvio padrão decai para os títulos com vencimento em sete anos, o que pode indicar a formação de expectativas consistentes de longo prazo sobre a taxa de juros.\n",
    "\n",
    "Outro ponto importante é relativo à média das distribuições. Geralmente existe um prémio-risco em torno de títulos com maior maturidade em relação à títulos com maturidade menor,ou seja, os agentes esperam remunerações maiores quanto maior for o vencimento de um título, porém, ao analisar a média dos retornos dos títulos pré-fixados, nota-se um fenômeno único: o valor esperado fica estático na casa dos 12%"
   ]
  },
  {
   "cell_type": "markdown",
   "metadata": {},
   "source": [
    "Esse fenômeno ocorre pelas políticas econômicas e fiscais utilizadas pelo Bacen para reverter os efeitos da crise e da inflação no país. Nesse contexto, os agentes esperam que as políticas vão surtir efeito e gerar melhores possibilidades de crédito no futuro, produzindo um efeito de inclinação negativa da curva de juros que logo mais será evidenciado no estudo"
   ]
  },
  {
   "cell_type": "code",
   "execution_count": 127,
   "metadata": {
    "scrolled": true
   },
   "outputs": [
    {
     "data": {
      "image/png": "[encoded data removed]",
      "text/plain": [
       "<Figure size 576x576 with 1 Axes>"
      ]
     },
     "metadata": {},
     "output_type": "display_data"
    }
   ],
   "source": [
    "bond_agregate.mean().plot(figsize = (8,8), title = \"Estrutura a Termo da Taxa de Juros\")\n",
    "plt.xlabel(\"Maturidade dos Títulos\")\n",
    "plt.ylabel(\"Taxa de Juros Pré-Fixada\")\n",
    "plt.show()"
   ]
  },
  {
   "cell_type": "markdown",
   "metadata": {},
   "source": [
    "Observe como a Estrutura a Termo da Taxa de juros (ETTJ) foge total do padrão de uma situação normal. Tem-se um curva de juros negativamente inclinada, de modo que o agente econômico não exige retornos maiores no futuro pelo maior nível de maturação do título público"
   ]
  },
  {
   "cell_type": "markdown",
   "metadata": {},
   "source": [
    "Pensando em uma oportunidades de investimento, a análise indica cautela ao continuar investindo em títulos pré-fixados ou renda fixa em geral, pois os agentes econômicos esperam uma redução das taxas de juros para os próximos anos. \n",
    "\n",
    "Dessa maneira para investidores que apenas estão olhando as oportunidades de curto prazo, isso pode indicar um risco de perda de rentaiblidade do portifólio"
   ]
  },
  {
   "cell_type": "markdown",
   "metadata": {},
   "source": [
    "-------------------------------\n",
    "Passo 5 - Comparação com benchmarks de mercado "
   ]
  },
  {
   "cell_type": "markdown",
   "metadata": {},
   "source": [
    "Vale a pena também comparar os retornos mensais médios dos títulos pré-fixados com o retorno de benchmarks da bolsa como o Ibovespa"
   ]
  },
  {
   "cell_type": "markdown",
   "metadata": {},
   "source": [
    "Retornos médios dos títulos:"
   ]
  },
  {
   "cell_type": "code",
   "execution_count": 152,
   "metadata": {
    "scrolled": false
   },
   "outputs": [
    {
     "data": {
      "text/plain": [
       "Text(0.5, 0, 'Periodo')"
      ]
     },
     "execution_count": 152,
     "metadata": {},
     "output_type": "execute_result"
    },
    {
     "data": {
      "image/png": "[encoded data removed]",
      "text/plain": [
       "<Figure size 864x576 with 1 Axes>"
      ]
     },
     "metadata": {},
     "output_type": "display_data"
    }
   ],
   "source": [
    "bond_return = bond_agregate.rolling(30).mean()\n",
    "bond_return.plot(figsize = (12,8), title = \"Retornos Moveis Mensais\")\n",
    "plt.ylabel(\"Retornos\")\n",
    "plt.xlabel(\"Periodo\")"
   ]
  },
  {
   "cell_type": "markdown",
   "metadata": {},
   "source": [
    "Observe que apesar de uma tendência de apreciação dos títulos públicos ao longo do ano, é perceptível uma deflexão da curva a partir do mês 08, sinalizando um risco ao investidor para os próximos períodos\n"
   ]
  },
  {
   "cell_type": "markdown",
   "metadata": {},
   "source": [
    "-------------------------\n",
    "Conclusões:"
   ]
  },
  {
   "cell_type": "markdown",
   "metadata": {},
   "source": [
    "Pensando em otimização de portifólio e gestão de risco, o estudo demonstra que o Brasil vive um momento impar em relação ao comportamento da curva de juros, contrariando o que se espera  de um mercado de renda fixa saudável e normal. Foi descoberto que as taxas para títulos de curto prazo estão maiores que as taxas para títulos de longo prazo, sinalizando um desejo por linhas de crédito mais baratas no futuro.  \n",
    "\n",
    "Ademais nota-se que uma reversão da tendência de crescimento dos retorno dos títulos públicos, o que corrobora com as percepções de longo prazo dos agentes econômicos. Isso pode sinalizar o início do fim da alta de renda fixa que foi observada desde 2020 até meados de 2022. "
   ]
  }
 ],
 "metadata": {
  "kernelspec": {
   "display_name": "Python 3 (ipykernel)",
   "language": "python",
   "name": "python3"
  },
  "language_info": {
   "codemirror_mode": {
    "name": "ipython",
    "version": 3
   },
   "file_extension": ".py",
   "mimetype": "text/x-python",
   "name": "python",
   "nbconvert_exporter": "python",
   "pygments_lexer": "ipython3",
   "version": "3.8.5"
  }
 },
 "nbformat": 4,
 "nbformat_minor": 4
}
